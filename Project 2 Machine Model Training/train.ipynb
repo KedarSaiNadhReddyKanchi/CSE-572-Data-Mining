{
 "cells": [
  {
   "cell_type": "code",
   "execution_count": 1,
   "metadata": {},
   "outputs": [],
   "source": [
    "import pandas as pd\n",
    "import numpy as np\n",
    "import pickle_compat\n",
    "pickle_compat.patch()\n",
    "from scipy.fftpack import fft\n",
    "from sklearn.preprocessing import StandardScaler\n",
    "from sklearn.decomposition import PCA\n",
    "from sklearn.model_selection import KFold\n",
    "import pickle\n",
    "from sklearn.svm import SVC\n",
    "from sklearn.metrics import confusion_matrix\n",
    "from sklearn.metrics import precision_score, recall_score, f1_score, accuracy_score\n",
    "import matplotlib.pyplot as plt"
   ]
  },
  {
   "cell_type": "code",
   "execution_count": 2,
   "metadata": {},
   "outputs": [],
   "source": [
    "def getMealNoMealTime(newData,time):\n",
    "    mealData=[]\n",
    "    time1 = newData[0:len(newData)-1]\n",
    "    time2 = newData[1:len(newData)]\n",
    "    difference = list(np.array(time1) - np.array(time2))\n",
    "    Values = list(zip(time1, time2, difference))\n",
    "    for j in Values:\n",
    "        if j[2]<time:\n",
    "            mealData.append(j[0])\n",
    "    return mealData"
   ]
  },
  {
   "cell_type": "code",
   "execution_count": 3,
   "metadata": {},
   "outputs": [],
   "source": [
    "def getMealNomealData(MealTime,S_Time,E_Time,isMealData,GlucoseValues):\n",
    "    NewMealData = []\n",
    "    \n",
    "    for Time in MealTime:\n",
    "        MealData0= GlucoseValues[GlucoseValues['datetime'].between(Time+ pd.DateOffset(hours=S_Time),Time + pd.DateOffset(hours=E_Time))]\n",
    "        if MealData0.shape[0] <24:\n",
    "            continue\n",
    "        GlucoseData = MealData0['Sensor Glucose (mg/dL)'].to_numpy()\n",
    "        mean = MealData0['Sensor Glucose (mg/dL)'].mean()\n",
    "        if isMealData:\n",
    "            MissingValues = 30 - len(GlucoseData)\n",
    "            if MissingValues > 0:\n",
    "                for i in range(MissingValues):\n",
    "                    GlucoseData = np.append(GlucoseData, mean)\n",
    "            NewMealData.append(GlucoseData[0:30])\n",
    "        else:\n",
    "            NewMealData.append(GlucoseData[0:24])\n",
    "    return pd.DataFrame(data=NewMealData)"
   ]
  },
  {
   "cell_type": "code",
   "execution_count": 4,
   "metadata": {},
   "outputs": [],
   "source": [
    "def Data_alter(InsulinData,GlucoseData):\n",
    "  M_Data = pd.DataFrame()\n",
    "  No_M_Data = pd.DataFrame()\n",
    "  InsulinData= InsulinData[::-1]\n",
    "  GlucoseData= GlucoseData[::-1]\n",
    "  GlucoseData['Sensor Glucose (mg/dL)'] = GlucoseData['Sensor Glucose (mg/dL)'].interpolate(method='linear',limit_direction = 'both')\n",
    "  InsulinData['datetime'] = pd.to_datetime(InsulinData[\"Date\"].astype(str) + \" \" + InsulinData[\"Time\"].astype(str))\n",
    "  GlucoseData['datetime'] = pd.to_datetime(GlucoseData[\"Date\"].astype(str) + \" \" + GlucoseData[\"Time\"].astype(str))\n",
    "  \n",
    "  NewData_I = InsulinData[['datetime','BWZ Carb Input (grams)']]\n",
    "  NewData_G = GlucoseData[['datetime','Sensor Glucose (mg/dL)']]\n",
    "  \n",
    "  NewData_I = NewData_I[(NewData_I['BWZ Carb Input (grams)'].notna()) & (NewData_I['BWZ Carb Input (grams)']>0) ]\n",
    "  \n",
    "  new_T = list(NewData_I['datetime'])\n",
    "  \n",
    "  MealData=[]\n",
    "  NoMealData =[]\n",
    "  MealData = getMealNoMealTime(new_T,pd.Timedelta('0 days 120 min'))\n",
    "  NoMealData = getMealNoMealTime(new_T,pd.Timedelta('0 days 240 min'))\n",
    "  \n",
    "  Data_M = getMealNomealData(MealData,-0.5,2,True,NewData_G)\n",
    "  Data_NM = getMealNomealData(NoMealData,2,4,False,NewData_G)\n",
    "\n",
    "  Features_Meal = features_Glucose(Data_M)\n",
    "  Features_NoMeal = features_Glucose(Data_NM)\n",
    "  \n",
    "  \n",
    "  stdScaler = StandardScaler()\n",
    "  STD_Meal = stdScaler.fit_transform(Features_Meal)\n",
    "  STD_NoMeal = stdScaler.fit_transform(Features_NoMeal)\n",
    "  \n",
    "  pca = PCA(n_components=5)\n",
    "  pca.fit(STD_Meal)\n",
    "       \n",
    "  PCA_Meal = pd.DataFrame(pca.fit_transform(STD_Meal))\n",
    "  PCA_NoMeal = pd.DataFrame(pca.fit_transform(STD_NoMeal))\n",
    "  \n",
    "  PCA_Meal['class'] = 1\n",
    "  PCA_NoMeal['class'] = 0\n",
    "  \n",
    "  Data1 = PCA_Meal.append(PCA_NoMeal)\n",
    "  Data1.index = [i for i in range(Data1.shape[0])]\n",
    "  return Data1"
   ]
  },
  {
   "cell_type": "code",
   "execution_count": 5,
   "metadata": {},
   "outputs": [],
   "source": [
    "def fn_zero_crossings(row, xAxis):\n",
    "    slopes = [0]\n",
    "    zero_cross = list()\n",
    "    zero_crossing_rate = 0\n",
    "    X = [i for i in range(xAxis)][::-1]\n",
    "    Y = row[::-1]\n",
    "    for index in range(0, len(X) - 1):\n",
    "        slopes.append((Y[(index + 1)] - Y[index]) / (X[(index + 1)] - X[index]))\n",
    "\n",
    "    for index in range(0, len(slopes) - 1):\n",
    "        if slopes[index] * slopes[(index + 1)] < 0:\n",
    "            zero_cross.append([slopes[(index + 1)] - slopes[index], X[(index + 1)]])\n",
    "\n",
    "    zero_crossing_rate = np.sum([np.abs(np.sign(slopes[(i + 1)]) - np.sign(slopes[i])) for i in range(0, len(slopes) - 1)]) / (2 * len(slopes))\n",
    "    if len(zero_cross) > 0:\n",
    "        return [max(zero_cross)[0], zero_crossing_rate]\n",
    "    else:\n",
    "        return [0, 0]"
   ]
  },
  {
   "cell_type": "code",
   "execution_count": 6,
   "metadata": {},
   "outputs": [],
   "source": [
    "def AbsMean(param):\n",
    "    Mean = 0\n",
    "    for p in range(0, len(param) - 1):\n",
    "        Mean = Mean + np.abs(param[(p + 1)] - param[p])\n",
    "    return Mean / len(param)"
   ]
  },
  {
   "cell_type": "code",
   "execution_count": 7,
   "metadata": {},
   "outputs": [],
   "source": [
    "def Entropy(param):\n",
    "    paramLen = len(param)\n",
    "    EntropyValue = 0\n",
    "    if paramLen <= 1:\n",
    "        return 0\n",
    "    else:\n",
    "        value, count = np.unique(param, return_counts=True)\n",
    "        ratio = count / paramLen\n",
    "        nonZero_ratio = np.count_nonzero(ratio)\n",
    "        if nonZero_ratio <= 1:\n",
    "            return 0\n",
    "        for i in ratio:\n",
    "            EntropyValue -= i * np.log2(i)\n",
    "        return EntropyValue"
   ]
  },
  {
   "cell_type": "code",
   "execution_count": 8,
   "metadata": {},
   "outputs": [],
   "source": [
    "def RootMeanSquare(param):\n",
    "    RootMeanSquare = 0\n",
    "    for p in range(0, len(param) - 1):\n",
    "        \n",
    "        RootMeanSquare = RootMeanSquare + np.square(param[p])\n",
    "    return np.sqrt(RootMeanSquare / len(param))"
   ]
  },
  {
   "cell_type": "code",
   "execution_count": 9,
   "metadata": {},
   "outputs": [],
   "source": [
    "def FastFourier(param):\n",
    "    FastFourier = fft(param)\n",
    "    paramLen = len(param)\n",
    "    t = 2/300\n",
    "    amplitude = []\n",
    "    frequency = np.linspace(0, paramLen * t, paramLen)\n",
    "    for amp in FastFourier:\n",
    "        amplitude.append(np.abs(amp))\n",
    "    sortedAmplitude = amplitude\n",
    "    sortedAmplitude = sorted(sortedAmplitude)\n",
    "    Amplitude_max = sortedAmplitude[(-2)]\n",
    "    Frequency_max = frequency.tolist()[amplitude.index(Amplitude_max)]\n",
    "    return [Amplitude_max, Frequency_max]"
   ]
  },
  {
   "cell_type": "code",
   "execution_count": 10,
   "metadata": {},
   "outputs": [],
   "source": [
    "def features_Glucose(Data_meal_NoMeal):\n",
    "    features_Glucose=pd.DataFrame()\n",
    "    for i in range(0, Data_meal_NoMeal.shape[0]):\n",
    "        param = Data_meal_NoMeal.iloc[i, :].tolist()\n",
    "        features_Glucose = features_Glucose.append({ \n",
    "         'Minimum Value':min(param), \n",
    "         'Maximum Value':max(param),\n",
    "         'Mean of Absolute Values1':AbsMean(param[:13]), \n",
    "         'Mean of Absolute Values2':AbsMean(param[13:]),  \n",
    "         'Root Mean Square':RootMeanSquare(param),\n",
    "         'Entropy':RootMeanSquare(param), \n",
    "         'Max FFT Amplitude1':FastFourier(param[:13])[0], \n",
    "         'Max FFT Frequency1':FastFourier(param[:13])[1], \n",
    "         'Max FFT Amplitude2':FastFourier(param[13:])[0], \n",
    "         'Max FFT Frequency2':FastFourier(param[13:])[1]},\n",
    "          ignore_index=True)\n",
    "    return features_Glucose"
   ]
  },
  {
   "cell_type": "code",
   "execution_count": 11,
   "metadata": {},
   "outputs": [
    {
     "name": "stderr",
     "output_type": "stream",
     "text": [
      "D:\\Anaconda\\lib\\site-packages\\IPython\\core\\interactiveshell.py:3146: DtypeWarning: Columns (9,10) have mixed types.Specify dtype option on import or set low_memory=False.\n",
      "  has_raised = await self.run_ast_nodes(code_ast.body, cell_name,\n"
     ]
    }
   ],
   "source": [
    "InsulinData1=pd.read_csv(\"Insulin_patient2.csv\")"
   ]
  },
  {
   "cell_type": "code",
   "execution_count": 12,
   "metadata": {},
   "outputs": [],
   "source": [
    "GlucoseData1=pd.read_csv(\"CGM_patient2.csv\")"
   ]
  },
  {
   "cell_type": "code",
   "execution_count": 13,
   "metadata": {},
   "outputs": [],
   "source": [
    "InsulinData2=pd.read_csv(\"InsulinData.csv\",low_memory=False)"
   ]
  },
  {
   "cell_type": "code",
   "execution_count": 14,
   "metadata": {},
   "outputs": [],
   "source": [
    "GlucoseData2=pd.read_csv(\"CGMData.csv\",low_memory=False)"
   ]
  },
  {
   "cell_type": "code",
   "execution_count": 15,
   "metadata": {},
   "outputs": [],
   "source": [
    "Insulin=pd.concat([InsulinData1,InsulinData2])"
   ]
  },
  {
   "cell_type": "code",
   "execution_count": 16,
   "metadata": {},
   "outputs": [],
   "source": [
    "Glucose=pd.concat([GlucoseData1,GlucoseData2])"
   ]
  },
  {
   "cell_type": "code",
   "execution_count": 17,
   "metadata": {},
   "outputs": [
    {
     "name": "stderr",
     "output_type": "stream",
     "text": [
      "<ipython-input-4-1995c221aa22>:7: SettingWithCopyWarning: \n",
      "A value is trying to be set on a copy of a slice from a DataFrame.\n",
      "Try using .loc[row_indexer,col_indexer] = value instead\n",
      "\n",
      "See the caveats in the documentation: https://pandas.pydata.org/pandas-docs/stable/user_guide/indexing.html#returning-a-view-versus-a-copy\n",
      "  InsulinData['datetime'] = pd.to_datetime(InsulinData[\"Date\"].astype(str) + \" \" + InsulinData[\"Time\"].astype(str))\n"
     ]
    }
   ],
   "source": [
    "Data1= Data_alter(Insulin,Glucose)"
   ]
  },
  {
   "cell_type": "code",
   "execution_count": 18,
   "metadata": {},
   "outputs": [],
   "source": [
    "X = Data1.iloc[:, :-1]"
   ]
  },
  {
   "cell_type": "code",
   "execution_count": 19,
   "metadata": {},
   "outputs": [],
   "source": [
    "Y = Data1.iloc[:, -1]"
   ]
  },
  {
   "cell_type": "code",
   "execution_count": 20,
   "metadata": {},
   "outputs": [],
   "source": [
    "model = SVC(kernel='linear',C=1,gamma=0.1)"
   ]
  },
  {
   "cell_type": "code",
   "execution_count": 21,
   "metadata": {},
   "outputs": [
    {
     "name": "stderr",
     "output_type": "stream",
     "text": [
      "D:\\Anaconda\\lib\\site-packages\\sklearn\\utils\\validation.py:67: FutureWarning: Pass shuffle=True, random_state=1 as keyword args. From version 0.25 passing these as positional arguments will result in an error\n",
      "  warnings.warn(\"Pass {} as keyword args. From version 0.25 \"\n"
     ]
    }
   ],
   "source": [
    "kfold = KFold(5, True, 1)"
   ]
  },
  {
   "cell_type": "code",
   "execution_count": 22,
   "metadata": {},
   "outputs": [],
   "source": [
    "scores_rf = []\n",
    "for tr, tst in kfold.split(X, Y):\n",
    "    X_train, X_test = X.iloc[tr], X.iloc[tst]\n",
    "    Y_train, Y_test = Y.iloc[tr], Y.iloc[tst]\n",
    "        \n",
    "    model.fit(X_train, Y_train)\n",
    "    scores_rf.append(model.score(X_test,Y_test))"
   ]
  },
  {
   "cell_type": "code",
   "execution_count": 23,
   "metadata": {},
   "outputs": [
    {
     "name": "stdout",
     "output_type": "stream",
     "text": [
      "Prediction score is 48.64035087719298\n"
     ]
    }
   ],
   "source": [
    "print('Prediction score is',np.mean(scores_rf)*100)"
   ]
  },
  {
   "cell_type": "code",
   "execution_count": 24,
   "metadata": {},
   "outputs": [],
   "source": [
    "with open('RF_Model.pkl', 'wb') as (file):\n",
    "        pickle.dump(model, file)"
   ]
  },
  {
   "cell_type": "code",
   "execution_count": 25,
   "metadata": {},
   "outputs": [],
   "source": [
    "y_pred = model.predict(X_test)"
   ]
  },
  {
   "cell_type": "code",
   "execution_count": 26,
   "metadata": {},
   "outputs": [],
   "source": [
    "conf_matrix = confusion_matrix(y_true=Y_test, y_pred=y_pred)"
   ]
  },
  {
   "cell_type": "code",
   "execution_count": 27,
   "metadata": {},
   "outputs": [
    {
     "data": {
      "image/png": "[encoded data removed]",
      "text/plain": [
       "<Figure size 360x360 with 1 Axes>"
      ]
     },
     "metadata": {
      "needs_background": "light"
     },
     "output_type": "display_data"
    }
   ],
   "source": [
    "fig, ax = plt.subplots(figsize=(5, 5))\n",
    "ax.matshow(conf_matrix, cmap=plt.cm.Oranges, alpha=0.3)\n",
    "for i in range(conf_matrix.shape[0]):\n",
    "    for j in range(conf_matrix.shape[1]):\n",
    "        ax.text(x=j, y=i,s=conf_matrix[i, j], va='center', ha='center', size='xx-large')\n",
    " \n",
    "plt.xlabel('Predictions', fontsize=18)\n",
    "plt.ylabel('Actuals', fontsize=18)\n",
    "plt.title('Confusion Matrix', fontsize=18)\n",
    "plt.show()"
   ]
  },
  {
   "cell_type": "code",
   "execution_count": 28,
   "metadata": {},
   "outputs": [
    {
     "name": "stdout",
     "output_type": "stream",
     "text": [
      "Precision: 0.484\n"
     ]
    }
   ],
   "source": [
    "print('Precision: %.3f' % precision_score(Y_test, y_pred))"
   ]
  },
  {
   "cell_type": "code",
   "execution_count": 29,
   "metadata": {},
   "outputs": [
    {
     "name": "stdout",
     "output_type": "stream",
     "text": [
      "Recall: 0.805\n"
     ]
    }
   ],
   "source": [
    "print('Recall: %.3f' % recall_score(Y_test, y_pred))"
   ]
  },
  {
   "cell_type": "code",
   "execution_count": 30,
   "metadata": {},
   "outputs": [
    {
     "name": "stdout",
     "output_type": "stream",
     "text": [
      "Accuracy: 0.478\n"
     ]
    }
   ],
   "source": [
    "print('Accuracy: %.3f' % accuracy_score(Y_test, y_pred))"
   ]
  },
  {
   "cell_type": "code",
   "execution_count": 31,
   "metadata": {},
   "outputs": [
    {
     "name": "stdout",
     "output_type": "stream",
     "text": [
      "F1 Score: 0.605\n"
     ]
    }
   ],
   "source": [
    "print('F1 Score: %.3f' % f1_score(Y_test, y_pred))"
   ]
  }
 ],
 "metadata": {
  "kernelspec": {
   "display_name": "Python 3",
   "language": "python",
   "name": "python3"
  },
  "language_info": {
   "codemirror_mode": {
    "name": "ipython",
    "version": 3
   },
   "file_extension": ".py",
   "mimetype": "text/x-python",
   "name": "python",
   "nbconvert_exporter": "python",
   "pygments_lexer": "ipython3",
   "version": "3.8.5"
  }
 },
 "nbformat": 4,
 "nbformat_minor": 4
}
