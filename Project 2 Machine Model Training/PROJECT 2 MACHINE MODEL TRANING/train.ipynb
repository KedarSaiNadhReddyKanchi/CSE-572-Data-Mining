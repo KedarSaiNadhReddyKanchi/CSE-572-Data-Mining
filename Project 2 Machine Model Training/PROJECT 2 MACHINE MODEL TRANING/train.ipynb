{
 "cells": [
  {
   "cell_type": "code",
   "execution_count": 33,
   "metadata": {},
   "outputs": [],
   "source": [
    "import pandas as pd\n",
    "import numpy as np\n",
    "from datetime import timedelta\n",
    "from scipy.fftpack import fft, ifft,rfft\n",
    "from sklearn.utils import shuffle\n",
    "from sklearn.tree import DecisionTreeClassifier\n",
    "from sklearn.model_selection import KFold, RepeatedKFold\n",
    "from joblib import dump, load\n",
    "from sklearn import svm\n",
    "from sklearn.metrics import precision_score, recall_score, f1_score, accuracy_score"
   ]
  },
  {
   "cell_type": "markdown",
   "metadata": {},
   "source": [
    "Read Data From the CSV Files"
   ]
  },
  {
   "cell_type": "code",
   "execution_count": 3,
   "metadata": {},
   "outputs": [],
   "source": [
    "patient_insulin_data_dataframe = pd.read_csv('InsulinData.csv', \n",
    "                                             low_memory=False, \n",
    "                                             usecols=['Date','Time','BWZ Carb Input (grams)'])"
   ]
  },
  {
   "cell_type": "code",
   "execution_count": 4,
   "metadata": {},
   "outputs": [],
   "source": [
    "patient_CGM_data_dataframe = pd.read_csv('CGMData.csv',\n",
    "                                         low_memory=False,\n",
    "                                         usecols=['Date','Time','Sensor Glucose (mg/dL)'])"
   ]
  },
  {
   "cell_type": "code",
   "execution_count": 5,
   "metadata": {},
   "outputs": [],
   "source": [
    "patient_insulin_data_dataframe['date_time_stamp'] = pd.to_datetime(patient_insulin_data_dataframe['Date'] + \n",
    "                                                                   ' ' + patient_insulin_data_dataframe['Time'])"
   ]
  },
  {
   "cell_type": "code",
   "execution_count": 6,
   "metadata": {},
   "outputs": [],
   "source": [
    "patient_CGM_data_dataframe['date_time_stamp'] = pd.to_datetime(patient_CGM_data_dataframe['Date'] + \n",
    "                                                               ' ' + patient_CGM_data_dataframe['Time'])"
   ]
  },
  {
   "cell_type": "code",
   "execution_count": 7,
   "metadata": {},
   "outputs": [],
   "source": [
    "patient2_insulin_data_dataframe_1 = pd.read_csv('Insulin_patient2.csv',\n",
    "                                                low_memory=False,\n",
    "                                                usecols=['Date','Time','BWZ Carb Input (grams)'])"
   ]
  },
  {
   "cell_type": "code",
   "execution_count": 8,
   "metadata": {},
   "outputs": [],
   "source": [
    "patient2_CGM_data_dataframe_1 = pd.read_csv('CGM_patient2.csv',\n",
    "                                            low_memory=False,\n",
    "                                            usecols=['Date','Time','Sensor Glucose (mg/dL)'])"
   ]
  },
  {
   "cell_type": "code",
   "execution_count": 9,
   "metadata": {},
   "outputs": [],
   "source": [
    "patient2_insulin_data_dataframe_1['date_time_stamp'] = pd.to_datetime(patient2_insulin_data_dataframe_1['Date'] + \n",
    "                                                                      ' ' + patient2_insulin_data_dataframe_1['Time'])"
   ]
  },
  {
   "cell_type": "code",
   "execution_count": 10,
   "metadata": {},
   "outputs": [],
   "source": [
    "patient2_CGM_data_dataframe_1['date_time_stamp'] = pd.to_datetime(patient2_CGM_data_dataframe_1['Date'] + \n",
    "                                                                ' ' + patient2_CGM_data_dataframe_1['Time'])"
   ]
  },
  {
   "cell_type": "markdown",
   "metadata": {},
   "source": [
    "Meal data extraction"
   ]
  },
  {
   "cell_type": "code",
   "execution_count": 11,
   "metadata": {},
   "outputs": [],
   "source": [
    "def createProcessedMealDataFrame(patient_insulin_data_dataframe, patient_CGM_data_dataframe, dateidentifier):\n",
    "    \n",
    "    patient_insulin_dataframe = patient_insulin_data_dataframe.copy()\n",
    "    patient_insulin_dataframe = patient_insulin_dataframe.set_index('date_time_stamp')\n",
    "    \n",
    "#     find_timestamp_data_with_2hours_30_minutes_dataframe = patient_insulin_dataframe.sort_values(by='date_time_stamp', ascending=True).dropna().reset_index()\n",
    "    find_timestamp_data_with_2hours_30_minutes_dataframe = patient_insulin_dataframe.sort_values(by='date_time_stamp', ascending=True).dropna()\n",
    "    find_timestamp_data_with_2hours_30_minutes_dataframe['BWZ Carb Input (grams)'].replace(0.0,np.nan,inplace=True)\n",
    "#     find_timestamp_data_with_2hours_30_minutes_dataframe = find_timestamp_data_with_2hours_30_minutes_dataframe.dropna()\n",
    "    find_timestamp_data_with_2hours_30_minutes_dataframe = find_timestamp_data_with_2hours_30_minutes_dataframe.dropna().reset_index()\n",
    "    find_timestamp_data_with_2hours_30_minutes_dataframe = find_timestamp_data_with_2hours_30_minutes_dataframe.reset_index().drop(columns='index')\n",
    "    \n",
    "    list_of_valid_timestamps = []\n",
    "    value = 0\n",
    "    for index,i in enumerate(find_timestamp_data_with_2hours_30_minutes_dataframe['date_time_stamp']):\n",
    "        try:\n",
    "            value = ((find_timestamp_data_with_2hours_30_minutes_dataframe['date_time_stamp'][index + 1] - i).seconds) / 60.0\n",
    "            if value >= 120:\n",
    "                list_of_valid_timestamps.append(i)\n",
    "        except KeyError:\n",
    "            break\n",
    "    \n",
    "    list1 = []\n",
    "    if dateidentifier == 1:\n",
    "        for index,i in enumerate(list_of_valid_timestamps):\n",
    "            start_time_stamp = pd.to_datetime(i - timedelta(minutes=30))\n",
    "            end_time_stamp = pd.to_datetime(i + timedelta(minutes=120))\n",
    "            get_date = i.date().strftime('%#m/%#d/%Y')\n",
    "            list1.append(patient_CGM_data_dataframe.loc[patient_CGM_data_dataframe['Date']==get_date].set_index('date_time_stamp').between_time(start_time=start_time_stamp.strftime('%#H:%#M:%#S'),end_time=end_time_stamp.strftime('%#H:%#M:%#S'))['Sensor Glucose (mg/dL)'].values.tolist())\n",
    "        return pd.DataFrame(list1)\n",
    "    else:\n",
    "        for index,i in enumerate(list_of_valid_timestamps):\n",
    "            start_time_stamp = pd.to_datetime(i - timedelta(minutes=30))\n",
    "            end_time_stamp = pd.to_datetime(i + timedelta(minutes=120))\n",
    "            get_date = i.date().strftime('%Y-%m-%d')\n",
    "            list1.append(patient_CGM_data_dataframe.loc[patient_CGM_data_dataframe['Date'] == get_date].set_index('date_time_stamp').between_time(start_time = start_time_stamp.strftime('%H:%M:%S'),end_time = end_time_stamp.strftime('%H:%M:%S'))['Sensor Glucose (mg/dL)'].values.tolist())\n",
    "        return pd.DataFrame(list1)"
   ]
  },
  {
   "cell_type": "code",
   "execution_count": 12,
   "metadata": {},
   "outputs": [],
   "source": [
    "meal_data = createProcessedMealDataFrame(patient_insulin_data_dataframe, patient_CGM_data_dataframe, 1)"
   ]
  },
  {
   "cell_type": "code",
   "execution_count": 13,
   "metadata": {},
   "outputs": [],
   "source": [
    "meal_data1 = createProcessedMealDataFrame(patient2_insulin_data_dataframe_1, patient2_CGM_data_dataframe_1, 2)"
   ]
  },
  {
   "cell_type": "code",
   "execution_count": 14,
   "metadata": {},
   "outputs": [],
   "source": [
    "meal_data = meal_data.iloc[:,0:30]"
   ]
  },
  {
   "cell_type": "code",
   "execution_count": 15,
   "metadata": {},
   "outputs": [],
   "source": [
    "meal_data1 = meal_data1.iloc[:,0:30]"
   ]
  },
  {
   "cell_type": "markdown",
   "metadata": {},
   "source": [
    "No-Meal data extraction"
   ]
  },
  {
   "cell_type": "code",
   "execution_count": 18,
   "metadata": {},
   "outputs": [],
   "source": [
    "def createnomealdata(patient_insulin_data_dataframe,patient_CGM_data_dataframe):\n",
    "    patient_insulin_no_meal_dataframe = patient_insulin_data_dataframe.copy()\n",
    "    temporary_testing_dataframe = patient_insulin_no_meal_dataframe.sort_values(by='date_time_stamp',ascending=True).replace(0.0,np.nan).dropna().copy()\n",
    "    temporary_testing_dataframe = temporary_testing_dataframe.reset_index().drop(columns='index')\n",
    "    list_of_valid_timestamps_for_no_meal_data = []\n",
    "    for index,i in enumerate(temporary_testing_dataframe['date_time_stamp']):\n",
    "        try:\n",
    "            value=(temporary_testing_dataframe['date_time_stamp'][index+1]-i).seconds//3600\n",
    "            if value >=4:\n",
    "                list_of_valid_timestamps_for_no_meal_data.append(i)\n",
    "        except KeyError:\n",
    "            break\n",
    "    dataset = []\n",
    "    for index, i in enumerate(list_of_valid_timestamps_for_no_meal_data):\n",
    "        iteration_dataset = 1\n",
    "        try:\n",
    "            all_nomeal = patient_CGM_data_dataframe.loc[(patient_CGM_data_dataframe['date_time_stamp']>=list_of_valid_timestamps_for_no_meal_data[index]+pd.Timedelta(hours=2))&(patient_CGM_data_dataframe['date_time_stamp']<list_of_valid_timestamps_for_no_meal_data[index+1])]['Sensor Glucose (mg/dL)']\n",
    "            total_length = len(all_nomeal)\n",
    "            length_of_24_dataset = total_length//24\n",
    "            while (iteration_dataset <= length_of_24_dataset):\n",
    "                if iteration_dataset == 1:\n",
    "                    dataset.append(all_nomeal.iloc[:24].values.tolist())\n",
    "                    iteration_dataset+=1\n",
    "                else:\n",
    "                    dataset.append(all_nomeal.iloc[(iteration_dataset-1)*24:(iteration_dataset)*24].values.tolist())\n",
    "                    iteration_dataset+=1\n",
    "        except IndexError:\n",
    "            break\n",
    "    return pd.DataFrame(dataset)"
   ]
  },
  {
   "cell_type": "code",
   "execution_count": 19,
   "metadata": {},
   "outputs": [],
   "source": [
    "no_meal_data = createnomealdata(patient_insulin_data_dataframe, patient_CGM_data_dataframe)"
   ]
  },
  {
   "cell_type": "code",
   "execution_count": 20,
   "metadata": {},
   "outputs": [],
   "source": [
    "no_meal_data1 = createnomealdata(patient2_insulin_data_dataframe_1, patient2_CGM_data_dataframe_1)"
   ]
  },
  {
   "cell_type": "markdown",
   "metadata": {},
   "source": [
    "Create Feature matrix from extracted meal data."
   ]
  },
  {
   "cell_type": "code",
   "execution_count": 21,
   "metadata": {},
   "outputs": [],
   "source": [
    "def createmealfeaturematrix(meal_data):\n",
    "    index=meal_data.isna().sum(axis=1).replace(0,np.nan).dropna().where(lambda x:x>6).dropna().index\n",
    "    meal_data_cleaned=meal_data.drop(meal_data.index[index]).reset_index().drop(columns='index')\n",
    "    meal_data_cleaned=meal_data_cleaned.interpolate(method='linear',axis=1)\n",
    "    index_to_drop_again=meal_data_cleaned.isna().sum(axis=1).replace(0,np.nan).dropna().index\n",
    "    meal_data_cleaned=meal_data_cleaned.drop(meal_data.index[index_to_drop_again]).reset_index().drop(columns='index')\n",
    "    meal_data_cleaned['tau_time']=abs(meal_data_cleaned.iloc[:,0:30].idxmin(axis=1)-meal_data_cleaned.iloc[:,0:30].idxmax(axis=1))*5\n",
    "    meal_data_cleaned['difference_in_glucose_normalized']=(meal_data_cleaned.iloc[:,0:30].max(axis=1)-meal_data_cleaned.iloc[:,0:25].min(axis=1))/(meal_data_cleaned.iloc[:,0:30].max(axis=1))\n",
    "    meal_data_cleaned=meal_data_cleaned.dropna().reset_index().drop(columns='index')\n",
    "    power_first_max=[]\n",
    "    index_first_max=[]\n",
    "    power_second_max=[]\n",
    "    index_second_max=[]\n",
    "    for i in range(len(meal_data_cleaned)):\n",
    "        array=abs(rfft(meal_data_cleaned.iloc[:,0:30].iloc[i].values.tolist())).tolist()\n",
    "        sorted_array=abs(rfft(meal_data_cleaned.iloc[:,0:30].iloc[i].values.tolist())).tolist()\n",
    "        sorted_array.sort()\n",
    "        power_first_max.append(sorted_array[-2])\n",
    "        power_second_max.append(sorted_array[-3])\n",
    "        index_first_max.append(array.index(sorted_array[-2]))\n",
    "        index_second_max.append(array.index(sorted_array[-3]))\n",
    "    meal_feature_matrix=pd.DataFrame()\n",
    "    meal_feature_matrix['tau_time']=meal_data_cleaned['tau_time']\n",
    "    meal_feature_matrix['difference_in_glucose_normalized']=meal_data_cleaned['difference_in_glucose_normalized']\n",
    "    meal_feature_matrix['power_first_max']=power_first_max\n",
    "    meal_feature_matrix['power_second_max']=power_second_max\n",
    "    meal_feature_matrix['index_first_max']=index_first_max\n",
    "    meal_feature_matrix['index_second_max']=index_second_max\n",
    "    tm=meal_data_cleaned.iloc[:,22:25].idxmin(axis=1)\n",
    "    maximum=meal_data_cleaned.iloc[:,5:19].idxmax(axis=1)\n",
    "    list1=[]\n",
    "    second_differential_data=[]\n",
    "    standard_deviation=[]\n",
    "    for i in range(len(meal_data_cleaned)):\n",
    "        list1.append(np.diff(meal_data_cleaned.iloc[:,maximum[i]:tm[i]].iloc[i].tolist()).max())\n",
    "        second_differential_data.append(np.diff(np.diff(meal_data_cleaned.iloc[:,maximum[i]:tm[i]].iloc[i].tolist())).max())\n",
    "        standard_deviation.append(np.std(meal_data_cleaned.iloc[i]))\n",
    "    meal_feature_matrix['1stDifferential']=list1\n",
    "    meal_feature_matrix['2ndDifferential']=second_differential_data\n",
    "    return meal_feature_matrix"
   ]
  },
  {
   "cell_type": "code",
   "execution_count": 22,
   "metadata": {},
   "outputs": [],
   "source": [
    "meal_feature_matrix = createmealfeaturematrix(meal_data)"
   ]
  },
  {
   "cell_type": "code",
   "execution_count": 23,
   "metadata": {},
   "outputs": [],
   "source": [
    "meal_feature_matrix1 = createmealfeaturematrix(meal_data1)"
   ]
  },
  {
   "cell_type": "code",
   "execution_count": 24,
   "metadata": {},
   "outputs": [],
   "source": [
    "meal_feature_matrix = pd.concat([meal_feature_matrix,meal_feature_matrix1]).reset_index().drop(columns='index')"
   ]
  },
  {
   "cell_type": "markdown",
   "metadata": {},
   "source": [
    "Just like Meal feature matrix, Create Feature matrix from extracted non meal data. (logic is same.) "
   ]
  },
  {
   "cell_type": "code",
   "execution_count": 25,
   "metadata": {},
   "outputs": [],
   "source": [
    "def createnomealfeaturematrix(non_meal_data):\n",
    "    index_to_remove_non_meal=non_meal_data.isna().sum(axis=1).replace(0,np.nan).dropna().where(lambda x:x>5).dropna().index\n",
    "    non_meal_data_cleaned=non_meal_data.drop(non_meal_data.index[index_to_remove_non_meal]).reset_index().drop(columns='index')\n",
    "    non_meal_data_cleaned=non_meal_data_cleaned.interpolate(method='linear',axis=1)\n",
    "    index_to_drop_again=non_meal_data_cleaned.isna().sum(axis=1).replace(0,np.nan).dropna().index\n",
    "    non_meal_data_cleaned=non_meal_data_cleaned.drop(non_meal_data_cleaned.index[index_to_drop_again]).reset_index().drop(columns='index')\n",
    "    non_meal_feature_matrix=pd.DataFrame()\n",
    "    \n",
    "    non_meal_data_cleaned['tau_time']=abs(non_meal_data_cleaned.iloc[:,0:24].idxmin(axis=1)-non_meal_data_cleaned.iloc[:,0:24].idxmax(axis=1))*5\n",
    "    non_meal_data_cleaned['difference_in_glucose_normalized']=(non_meal_data_cleaned.iloc[:,0:24].max(axis=1)-non_meal_data_cleaned.iloc[:,0:24].min(axis=1))/(non_meal_data_cleaned.iloc[:,0:24].max(axis=1))\n",
    "    power_first_max,index_first_max,power_second_max,index_second_max=[],[],[],[]\n",
    "    for i in range(len(non_meal_data_cleaned)):\n",
    "        array=abs(rfft(non_meal_data_cleaned.iloc[:,0:24].iloc[i].values.tolist())).tolist()\n",
    "        sorted_array=abs(rfft(non_meal_data_cleaned.iloc[:,0:24].iloc[i].values.tolist())).tolist()\n",
    "        sorted_array.sort()\n",
    "        power_first_max.append(sorted_array[-2])\n",
    "        power_second_max.append(sorted_array[-3])\n",
    "        index_first_max.append(array.index(sorted_array[-2]))\n",
    "        index_second_max.append(array.index(sorted_array[-3]))\n",
    "    non_meal_feature_matrix['tau_time']=non_meal_data_cleaned['tau_time']\n",
    "    non_meal_feature_matrix['difference_in_glucose_normalized']=non_meal_data_cleaned['difference_in_glucose_normalized']\n",
    "    non_meal_feature_matrix['power_first_max']=power_first_max\n",
    "    non_meal_feature_matrix['power_second_max']=power_second_max\n",
    "    non_meal_feature_matrix['index_first_max']=index_first_max\n",
    "    non_meal_feature_matrix['index_second_max']=index_second_max\n",
    "    first_differential_data=[]\n",
    "    second_differential_data=[]\n",
    "    for i in range(len(non_meal_data_cleaned)):\n",
    "        first_differential_data.append(np.diff(non_meal_data_cleaned.iloc[:,0:24].iloc[i].tolist()).max())\n",
    "        second_differential_data.append(np.diff(np.diff(non_meal_data_cleaned.iloc[:,0:24].iloc[i].tolist())).max())\n",
    "    non_meal_feature_matrix['1stDifferential']=first_differential_data\n",
    "    non_meal_feature_matrix['2ndDifferential']=second_differential_data\n",
    "    return non_meal_feature_matrix\n"
   ]
  },
  {
   "cell_type": "code",
   "execution_count": 26,
   "metadata": {},
   "outputs": [],
   "source": [
    "non_meal_feature_matrix = createnomealfeaturematrix(no_meal_data)"
   ]
  },
  {
   "cell_type": "code",
   "execution_count": 27,
   "metadata": {},
   "outputs": [],
   "source": [
    "non_meal_feature_matrix1 = createnomealfeaturematrix(no_meal_data1)"
   ]
  },
  {
   "cell_type": "code",
   "execution_count": 28,
   "metadata": {},
   "outputs": [],
   "source": [
    "non_meal_feature_matrix=pd.concat([non_meal_feature_matrix,non_meal_feature_matrix1]).reset_index().drop(columns='index')"
   ]
  },
  {
   "cell_type": "markdown",
   "metadata": {},
   "source": [
    "Subject the data onto Decision Tree Classifier to predict 0 / 1 label using KFold Cross Validation."
   ]
  },
  {
   "cell_type": "code",
   "execution_count": 29,
   "metadata": {},
   "outputs": [],
   "source": [
    "meal_feature_matrix['label'] = 1\n",
    "non_meal_feature_matrix['label'] = 0\n",
    "total_data = pd.concat([meal_feature_matrix, non_meal_feature_matrix]).reset_index().drop(columns='index')\n",
    "dataset = shuffle(total_data, random_state = 1).reset_index().drop(columns='index')\n",
    "kfold = KFold(n_splits=10,shuffle=False)\n",
    "principaldata = dataset.drop(columns = 'label')\n",
    "scores_rf = []\n",
    "model = DecisionTreeClassifier(criterion=\"entropy\")\n",
    "for train_index, test_index in kfold.split(principaldata):\n",
    "    X_train,X_test,y_train,y_test = principaldata.loc[train_index], principaldata.loc[test_index], dataset.label.loc[train_index], dataset.label.loc[test_index]\n",
    "    model.fit(X_train,y_train)\n",
    "    scores_rf.append(model.score(X_test,y_test))"
   ]
  },
  {
   "cell_type": "code",
   "execution_count": 30,
   "metadata": {},
   "outputs": [
    {
     "name": "stdout",
     "output_type": "stream",
     "text": [
      "Prediction score is 87.06216360087538\n"
     ]
    }
   ],
   "source": [
    "print('Prediction score is',np.mean(scores_rf)*100)"
   ]
  },
  {
   "cell_type": "code",
   "execution_count": 31,
   "metadata": {},
   "outputs": [],
   "source": [
    "y_pred = model.predict(X_test)"
   ]
  },
  {
   "cell_type": "code",
   "execution_count": 35,
   "metadata": {},
   "outputs": [
    {
     "name": "stdout",
     "output_type": "stream",
     "text": [
      "Precision: 0.800\n"
     ]
    }
   ],
   "source": [
    "print('Precision: %.3f' % precision_score(y_test, y_pred))"
   ]
  },
  {
   "cell_type": "code",
   "execution_count": 36,
   "metadata": {},
   "outputs": [
    {
     "name": "stdout",
     "output_type": "stream",
     "text": [
      "Recall: 0.759\n"
     ]
    }
   ],
   "source": [
    "print('Recall: %.3f' % recall_score(y_test, y_pred))"
   ]
  },
  {
   "cell_type": "code",
   "execution_count": 37,
   "metadata": {},
   "outputs": [
    {
     "name": "stdout",
     "output_type": "stream",
     "text": [
      "Accuracy: 0.893\n"
     ]
    }
   ],
   "source": [
    "print('Accuracy: %.3f' % accuracy_score(y_test, y_pred))"
   ]
  },
  {
   "cell_type": "code",
   "execution_count": 38,
   "metadata": {},
   "outputs": [
    {
     "name": "stdout",
     "output_type": "stream",
     "text": [
      "F1 Score: 0.779\n"
     ]
    }
   ],
   "source": [
    "print('F1 Score: %.3f' % f1_score(y_test, y_pred))"
   ]
  },
  {
   "cell_type": "code",
   "execution_count": 39,
   "metadata": {},
   "outputs": [],
   "source": [
    "classifier=DecisionTreeClassifier(criterion='entropy')"
   ]
  },
  {
   "cell_type": "code",
   "execution_count": 40,
   "metadata": {},
   "outputs": [],
   "source": [
    "X, y= principaldata, dataset['label']"
   ]
  },
  {
   "cell_type": "code",
   "execution_count": 41,
   "metadata": {},
   "outputs": [
    {
     "data": {
      "text/plain": [
       "DecisionTreeClassifier(criterion='entropy')"
      ]
     },
     "execution_count": 41,
     "metadata": {},
     "output_type": "execute_result"
    }
   ],
   "source": [
    "classifier.fit(X,y)"
   ]
  },
  {
   "cell_type": "code",
   "execution_count": 42,
   "metadata": {},
   "outputs": [
    {
     "data": {
      "text/plain": [
       "['DecisionTreeClassifier.pickle']"
      ]
     },
     "execution_count": 42,
     "metadata": {},
     "output_type": "execute_result"
    }
   ],
   "source": [
    "dump(classifier, 'DecisionTreeClassifier.pickle')"
   ]
  }
 ],
 "metadata": {
  "kernelspec": {
   "display_name": "Python 3",
   "language": "python",
   "name": "python3"
  },
  "language_info": {
   "codemirror_mode": {
    "name": "ipython",
    "version": 3
   },
   "file_extension": ".py",
   "mimetype": "text/x-python",
   "name": "python",
   "nbconvert_exporter": "python",
   "pygments_lexer": "ipython3",
   "version": "3.8.5"
  }
 },
 "nbformat": 4,
 "nbformat_minor": 4
}
